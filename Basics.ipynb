{
 "cells": [
  {
   "cell_type": "markdown",
   "metadata": {
    "collapsed": true
   },
   "source": [
    "# DATA CLEANING\n",
    "*This dataset consists of used cars from eBay Kleinanzeigen, a classifieds section of the German eBay website. This project aims to clean the data and analyze the included used car listings.*"
   ]
  },
  {
   "cell_type": "markdown",
   "metadata": {},
   "source": [
    "### TABLE OF CONTENTS:\n",
    "\n",
    "* [Basic data exploration](#EDA)\n",
    "* [Observation summary](#obs_sum)\n",
    "* [Data cleaning](#data_cleaning)\n",
    "    * [Edit column names](#edit_col_names)\n",
    "    * [Date formatting](#handle_dates)\n",
    "    * [Convert numeric columns numeric dtype](#text_num)\n",
    "    * [Regex to replace characters](#replace_non_num)\n",
    "    * [Aggregate numeric column](#num_col_analysis)\n",
    "    * [Check labelling of categorical column](#cat_label)\n",
    "* [Outliers](#detect_outliers)\n",
    "    * [Outlier visualisation using boxplot](#boxplot)\n",
    "    * [Remove outliers](#remove_outliers)\n",
    "        * [Handle outliers using IQR method](#IQR)\n",
    "        * [Handle outliers using z-score method](#z-score)\n",
    "* [Missing values](#missing_values)"
   ]
  },
  {
   "cell_type": "code",
   "execution_count": null,
   "metadata": {
    "scrolled": true
   },
   "outputs": [],
   "source": [
    "# Import required libraries\n",
    "import pandas as pd\n",
    "import numpy as np\n",
    "import matplotlib.pyplot as plt\n",
    "%matplotlib inline"
   ]
  },
  {
   "cell_type": "code",
   "execution_count": null,
   "metadata": {},
   "outputs": [],
   "source": [
    "# To print in a better format\n",
    "def print_data_info(header_add, header, func):\n",
    "    print('\\n', '=+'*50,'\\n', header_add, header, ':\\n','=+'*50, '\\n', func)"
   ]
  },
  {
   "cell_type": "markdown",
   "metadata": {},
   "source": [
    "# DATA CLEANING<a class=\"anchor\" id=\"data_cleaning\"></a>"
   ]
  },
  {
   "cell_type": "markdown",
   "metadata": {},
   "source": [
    "# Basic data exploration<a class=\"anchor\" id=\"EDA\"></a>"
   ]
  },
  {
   "cell_type": "code",
   "execution_count": null,
   "metadata": {},
   "outputs": [],
   "source": [
    "# Load data, default encoding is UTF-8, try Latin-1 and Windows-1252 for encoding erors\n",
    "autos = pd.read_csv('autos.csv', encoding = 'Windows-1252')\n",
    "\n",
    "print_data_info( '-','The shape of the dataset is : ', autos.shape)"
   ]
  },
  {
   "cell_type": "code",
   "execution_count": null,
   "metadata": {},
   "outputs": [],
   "source": [
    "# Load data, default encoding is UTF-8, try Latin-1 and Windows-1252 for encoding erors\n",
    "autos = pd.read_csv('autos.csv', encoding = 'Windows-1252')\n",
    "\n",
    "print_data_info( '-','The shape of the dataset is : ', autos.shape)\n",
    "\n",
    "print('=====================================================')\n",
    "print('NAs/Missing values in the data')\n",
    "print('=====================================================')\n",
    "# check NAs in the data. .isnull() gives boolean values, the sum gives total number of nas. I divided it further by total number of rows to get the percentage of data in null.\n",
    "print(autos.isnull().sum()/autos.shape[0]*100)\n",
    "\n",
    "print('=====================================================')\n",
    "print('Top 5 rows in the data')\n",
    "print('=====================================================')\n",
    "print(autos.head())\n",
    "\n",
    "print('=====================================================')\n",
    "print('Describe function to check abnormalities, outliers')\n",
    "print('=====================================================')\n",
    "# .describe only includes numeric columns, adding include='all' will include all the columns with different dtypes is included.\n",
    "autos.describe(include='all')\n",
    "# yearOfRegistration,  monthOfRegistration, postalCode are stored as numeric dtypes. Where as price and odometer columns are saved as strings. "
   ]
  },
  {
   "cell_type": "markdown",
   "metadata": {},
   "source": [
    "# Observations summary<a class=\"anchor\" id=\"obs_sum\"></a>\n",
    "Based on the observations made from the above exploration following data cleaning is needed.\n",
    "\n",
    "* The column names use camelcase instead of Python's preferred snakecase, which means we can't just replace spaces with underscores therefore convert the column names from camelcase to snakecase and reword some of the column names based on the data dictionary to be more descriptive.\n",
    "\n",
    "* Convert columns like dateCrawled, dateCreated and lastSeen to timestamps to be able to extract dates, year, month, time etc. \n",
    "\n",
    "* Some of the columns like vehicle_type, gear_box, model, fuel_type, notRepairedDamage have missing values. This values can be imputed or removed from the data.\n",
    "\n",
    "* The column'yearOfRegistration'has min value of 1000 (before cars were invented) and max of 9999 (many years into the future). these datapoints do not make sense. We might need to remove such data.\n",
    "\n",
    "* Price and odometer column are numeric columns. Remove any non-numeric characters and convert the column to numeric dtype. Add 'dollar' and 'km' to the column name to be descriptive. Once the column is converted to numeric dtype, check for outlier and anomalies in the data and remove them.\n",
    "\n",
    "* Some columns have null values. The column 'notRepairedDamage' has highest null values but none have more than ~20% null values. We might want to drop these values or replace them. Lets decide post further exploration.\n",
    "\n"
   ]
  },
  {
   "cell_type": "markdown",
   "metadata": {},
   "source": [
    "# Data Cleaning<a class=\"anchor\" id=\"data_cleaning\"></a>"
   ]
  },
  {
   "cell_type": "markdown",
   "metadata": {},
   "source": [
    "## Edit column names<a class=\"anchor\" id=\"edit_col_names\"></a>\n",
    "Let's convert the column names from camelcase to snakecase and reword some of the column names based on the data dictionary to be more descriptive."
   ]
  },
  {
   "cell_type": "code",
   "execution_count": 4,
   "metadata": {},
   "outputs": [
    {
     "name": "stdout",
     "output_type": "stream",
     "text": [
      "=====================================================\n",
      "Before changing column names\n",
      "=====================================================\n",
      "['dateCrawled', 'name', 'seller', 'offerType', 'price', 'abtest', 'vehicleType', 'yearOfRegistration', 'gearbox', 'powerPS', 'model', 'odometer', 'monthOfRegistration', 'fuelType', 'brand', 'notRepairedDamage', 'dateCreated', 'nrOfPictures', 'postalCode', 'lastSeen']\n",
      "=====================================================\n",
      "After changing column names\n",
      "=====================================================\n",
      "['date_crawled', 'name', 'seller', 'offer_type', 'price_dollar', 'abtest', 'vehicle_type', 'registration_year', 'gearbox', 'powerps', 'model', 'odometer_km', 'registration_month', 'fuel_type', 'brand', 'unrepaired_damage', 'ad_created', 'number_pictures_ad', 'postal_code', 'last_seen']\n"
     ]
    }
   ],
   "source": [
    "print('=====================================================')\n",
    "print('Before changing column names')\n",
    "print('=====================================================')\n",
    "print(list(autos.columns))\n",
    "\n",
    "# Copy the array of column names to convert the names to snake case and reword some column names\n",
    "autos.rename({'dateCrawled': 'date_crawled',\n",
    " 'offerType':'offer_type',\n",
    " 'vehicleType': 'vehicle_type',\n",
    " 'yearOfRegistration': 'registration_year',\n",
    " 'monthOfRegistration':'registration_month',\n",
    " 'fuelType':'fuel_type',\n",
    " 'price' : 'price_dollar',\n",
    " 'odometer' : 'odometer_km',\n",
    " 'notRepairedDamage':'unrepaired_damage',\n",
    " 'dateCreated':'ad_created',\n",
    " 'nrOfPictures':'number_pictures_ad',\n",
    " 'postalCode': 'postal_code',\n",
    " 'lastSeen':'last_seen'}, axis='columns', inplace =True)\n",
    "\n",
    "# To ensure all the cases are lower for consistency\n",
    "autos.columns = autos.columns.str.lower() \n",
    "\n",
    "print('=====================================================')\n",
    "print('After changing column names')\n",
    "print('=====================================================')\n",
    "print(list(autos.columns))"
   ]
  },
  {
   "cell_type": "markdown",
   "metadata": {},
   "source": [
    "## Date column formatting<a class=\"anchor\" id=\"handle_dates\"></a>\n"
   ]
  },
  {
   "cell_type": "raw",
   "metadata": {},
   "source": [
    "### Datetime columns"
   ]
  },
  {
   "cell_type": "code",
   "execution_count": 5,
   "metadata": {},
   "outputs": [
    {
     "data": {
      "text/plain": [
       "0    2016-03-26\n",
       "1    2016-04-04\n",
       "2    2016-03-26\n",
       "3    2016-03-12\n",
       "4    2016-04-01\n",
       "Name: date_crawled, dtype: object"
      ]
     },
     "execution_count": 5,
     "metadata": {},
     "output_type": "execute_result"
    }
   ],
   "source": [
    "# Datetime columns can be converted to DateTime formatting using pd.to_datetime function where you can specify the format you are looking for e.g. :  format='%Y-%m-%d %H:%M:%S.%f'\n",
    "dates_cols = ['date_crawled','ad_created','last_seen', 'registration_year', 'registration_month']\n",
    "\n",
    "# Since only first three columns require date formatting, lets slice dates_cols in the below code.\n",
    "autos[dates_cols[:3]] = autos[dates_cols[:3]].apply(pd.to_datetime, format='%Y-%m-%d %H:%M:%S.%f')\n",
    "autos[['date_crawled','ad_created','last_seen']].head()\n",
    "\n",
    "# you can use .dt.date or .dt.year or .dt.month function to extract date, year, month respectively form the above columns.\n",
    "autos['date_crawled'].dt.date[:5]"
   ]
  },
  {
   "cell_type": "code",
   "execution_count": 6,
   "metadata": {},
   "outputs": [
    {
     "data": {
      "text/html": [
       "<div>\n",
       "<style scoped>\n",
       "    .dataframe tbody tr th:only-of-type {\n",
       "        vertical-align: middle;\n",
       "    }\n",
       "\n",
       "    .dataframe tbody tr th {\n",
       "        vertical-align: top;\n",
       "    }\n",
       "\n",
       "    .dataframe thead th {\n",
       "        text-align: right;\n",
       "    }\n",
       "</style>\n",
       "<table border=\"1\" class=\"dataframe\">\n",
       "  <thead>\n",
       "    <tr style=\"text-align: right;\">\n",
       "      <th></th>\n",
       "      <th>registration_year</th>\n",
       "      <th>registration_month</th>\n",
       "    </tr>\n",
       "  </thead>\n",
       "  <tbody>\n",
       "    <tr>\n",
       "      <th>count</th>\n",
       "      <td>50000.000000</td>\n",
       "      <td>50000.000000</td>\n",
       "    </tr>\n",
       "    <tr>\n",
       "      <th>mean</th>\n",
       "      <td>2005.073280</td>\n",
       "      <td>5.723360</td>\n",
       "    </tr>\n",
       "    <tr>\n",
       "      <th>std</th>\n",
       "      <td>105.712813</td>\n",
       "      <td>3.711984</td>\n",
       "    </tr>\n",
       "    <tr>\n",
       "      <th>min</th>\n",
       "      <td>1000.000000</td>\n",
       "      <td>0.000000</td>\n",
       "    </tr>\n",
       "    <tr>\n",
       "      <th>25%</th>\n",
       "      <td>1999.000000</td>\n",
       "      <td>3.000000</td>\n",
       "    </tr>\n",
       "    <tr>\n",
       "      <th>50%</th>\n",
       "      <td>2003.000000</td>\n",
       "      <td>6.000000</td>\n",
       "    </tr>\n",
       "    <tr>\n",
       "      <th>75%</th>\n",
       "      <td>2008.000000</td>\n",
       "      <td>9.000000</td>\n",
       "    </tr>\n",
       "    <tr>\n",
       "      <th>max</th>\n",
       "      <td>9999.000000</td>\n",
       "      <td>12.000000</td>\n",
       "    </tr>\n",
       "  </tbody>\n",
       "</table>\n",
       "</div>"
      ],
      "text/plain": [
       "       registration_year  registration_month\n",
       "count       50000.000000        50000.000000\n",
       "mean         2005.073280            5.723360\n",
       "std           105.712813            3.711984\n",
       "min          1000.000000            0.000000\n",
       "25%          1999.000000            3.000000\n",
       "50%          2003.000000            6.000000\n",
       "75%          2008.000000            9.000000\n",
       "max          9999.000000           12.000000"
      ]
     },
     "execution_count": 6,
     "metadata": {},
     "output_type": "execute_result"
    }
   ],
   "source": [
    "autos[dates_cols].describe()\n",
    "# As per the observation made in the preliminary data analysis, the column'yearOfRegistration'has min value of 1000 (before cars were invented) and max of 9999 (many years into the future). These datapoints do not make sense. Let's count the number of listings with cars that fall outside the 1904 - 2016 interval (Since the first car was registered in 1904) and see if it's safe to remove those rows entirely, or if we need more custom logic."
   ]
  },
  {
   "cell_type": "code",
   "execution_count": 7,
   "metadata": {},
   "outputs": [
    {
     "data": {
      "text/plain": [
       "3.9440000000000004"
      ]
     },
     "execution_count": 7,
     "metadata": {},
     "output_type": "execute_result"
    }
   ],
   "source": [
    "((50000 - autos['registration_year'].between(1904, 2016).sum())/50000)*100\n",
    "# 4% of the data has incorrect information. for now lets delete this data. Based on the study goals, this data can be imputed by replacing it with mode, median or by predicting the values using a model."
   ]
  },
  {
   "cell_type": "code",
   "execution_count": 8,
   "metadata": {},
   "outputs": [
    {
     "name": "stdout",
     "output_type": "stream",
     "text": [
      "First 10 entries sorted by values\n",
      "=======================================================\n",
      "2000    6.983426\n",
      "2005    6.277588\n",
      "1999    6.246356\n",
      "2004    5.698759\n",
      "2003    5.677938\n",
      "2006    5.638378\n",
      "2001    5.627967\n",
      "2002    5.274007\n",
      "1998    5.107437\n",
      "2007    4.797202\n",
      "dtype: float64\n",
      "First 10 entries sorted by index(date)\n",
      "=======================================================\n"
     ]
    },
    {
     "data": {
      "text/plain": [
       "1910    0.000187\n",
       "1927    0.000021\n",
       "1929    0.000021\n",
       "1931    0.000021\n",
       "1934    0.000042\n",
       "1937    0.000083\n",
       "1938    0.000021\n",
       "1939    0.000021\n",
       "1941    0.000042\n",
       "1943    0.000021\n",
       "dtype: float64"
      ]
     },
     "execution_count": 8,
     "metadata": {},
     "output_type": "execute_result"
    }
   ],
   "source": [
    "autos = autos[autos['registration_year'].between(1904, 2016)]\n",
    "# review frequency percentage after removing incorrect entries. I have sliced it for first 10 observations.\n",
    "print('First 10 entries sorted by values')\n",
    "print('=======================================================')\n",
    "print((pd.value_counts(autos['registration_year'].values, sort=True, normalize=True)*100)[:10])\n",
    "\n",
    "# To rank by date in ascending order (earliest to latest), we can chain the Series.sort_index() method.  I have sliced it for first 10 observations.\n",
    "print('First 10 entries sorted by index(date)')\n",
    "print('=======================================================')\n",
    "pd.value_counts(autos['registration_year'].values, sort=True, normalize=True).sort_index()[:10]"
   ]
  },
  {
   "cell_type": "markdown",
   "metadata": {},
   "source": [
    "## Regex to replace characters<a class=\"anchor\" id=\"replace_non_num\"></a>\n",
    "#### A brief explanation on REGEX usage\n",
    "* Step 1 -- Specify class, its specified within square brackets []. To find ABC you can specify [ABCD] or [A-D], for 1,2,3,4,5 [1-5].\n",
    "\n",
    "* Step 2 -- You can match the characters not listed within the class by complementing the set. This is indicated by including a '^' as the first character of the class; '^'. for example if you want to find digits you can specify [^A-Z]\n",
    "You can match the characters not listed within the class by complementing the set.\n",
    "\n"
   ]
  },
  {
   "cell_type": "code",
   "execution_count": 9,
   "metadata": {},
   "outputs": [],
   "source": [
    "# we can use .replace to remove the characters we want to remove. The only drawback in this method is must know all the characters that needs to be removed in any given column.\n",
    "autos['price_dollar'] = autos['price_dollar'].str.replace('$', '').str.replace(',', '').astype('float')\n",
    "\n",
    "# lets use regex within replace to remove all non numeric characters. Double bracket represents a class you want to find, carrot sign before class represents complementing set. 0 and 9 seperated by hyphen represents a range. Therefore [^0-9] represents non-numeric characters. \n",
    "autos['odometer_km'] = autos['odometer_km'].str.replace('[^0-9]', '').astype('float')\n",
    "# Now that we have converted two variables price and odometer to numeric, we can rerun describe function to analyze minimum and maximum values and look for any values that look unrealistically high or low (outliers) that we might want to remove."
   ]
  },
  {
   "cell_type": "code",
   "execution_count": 10,
   "metadata": {},
   "outputs": [
    {
     "data": {
      "text/html": [
       "<div>\n",
       "<style scoped>\n",
       "    .dataframe tbody tr th:only-of-type {\n",
       "        vertical-align: middle;\n",
       "    }\n",
       "\n",
       "    .dataframe tbody tr th {\n",
       "        vertical-align: top;\n",
       "    }\n",
       "\n",
       "    .dataframe thead th {\n",
       "        text-align: right;\n",
       "    }\n",
       "</style>\n",
       "<table border=\"1\" class=\"dataframe\">\n",
       "  <thead>\n",
       "    <tr style=\"text-align: right;\">\n",
       "      <th></th>\n",
       "      <th>price_dollar</th>\n",
       "      <th>registration_year</th>\n",
       "      <th>powerps</th>\n",
       "      <th>odometer_km</th>\n",
       "      <th>registration_month</th>\n",
       "      <th>number_pictures_ad</th>\n",
       "      <th>postal_code</th>\n",
       "    </tr>\n",
       "  </thead>\n",
       "  <tbody>\n",
       "    <tr>\n",
       "      <th>count</th>\n",
       "      <td>4.802800e+04</td>\n",
       "      <td>48028.00000</td>\n",
       "      <td>48028.000000</td>\n",
       "      <td>48028.000000</td>\n",
       "      <td>48028.000000</td>\n",
       "      <td>48028.0</td>\n",
       "      <td>48028.000000</td>\n",
       "    </tr>\n",
       "    <tr>\n",
       "      <th>mean</th>\n",
       "      <td>9.585252e+03</td>\n",
       "      <td>2002.80351</td>\n",
       "      <td>117.070417</td>\n",
       "      <td>125544.161739</td>\n",
       "      <td>5.767760</td>\n",
       "      <td>0.0</td>\n",
       "      <td>50935.867327</td>\n",
       "    </tr>\n",
       "    <tr>\n",
       "      <th>std</th>\n",
       "      <td>4.843817e+05</td>\n",
       "      <td>7.31085</td>\n",
       "      <td>195.151278</td>\n",
       "      <td>40106.751417</td>\n",
       "      <td>3.696802</td>\n",
       "      <td>0.0</td>\n",
       "      <td>25792.079828</td>\n",
       "    </tr>\n",
       "    <tr>\n",
       "      <th>min</th>\n",
       "      <td>0.000000e+00</td>\n",
       "      <td>1910.00000</td>\n",
       "      <td>0.000000</td>\n",
       "      <td>5000.000000</td>\n",
       "      <td>0.000000</td>\n",
       "      <td>0.0</td>\n",
       "      <td>1067.000000</td>\n",
       "    </tr>\n",
       "    <tr>\n",
       "      <th>25%</th>\n",
       "      <td>1.150000e+03</td>\n",
       "      <td>1999.00000</td>\n",
       "      <td>71.000000</td>\n",
       "      <td>100000.000000</td>\n",
       "      <td>3.000000</td>\n",
       "      <td>0.0</td>\n",
       "      <td>30459.000000</td>\n",
       "    </tr>\n",
       "    <tr>\n",
       "      <th>50%</th>\n",
       "      <td>2.990000e+03</td>\n",
       "      <td>2003.00000</td>\n",
       "      <td>107.000000</td>\n",
       "      <td>150000.000000</td>\n",
       "      <td>6.000000</td>\n",
       "      <td>0.0</td>\n",
       "      <td>49696.000000</td>\n",
       "    </tr>\n",
       "    <tr>\n",
       "      <th>75%</th>\n",
       "      <td>7.400000e+03</td>\n",
       "      <td>2008.00000</td>\n",
       "      <td>150.000000</td>\n",
       "      <td>150000.000000</td>\n",
       "      <td>9.000000</td>\n",
       "      <td>0.0</td>\n",
       "      <td>71665.000000</td>\n",
       "    </tr>\n",
       "    <tr>\n",
       "      <th>max</th>\n",
       "      <td>1.000000e+08</td>\n",
       "      <td>2016.00000</td>\n",
       "      <td>17700.000000</td>\n",
       "      <td>150000.000000</td>\n",
       "      <td>12.000000</td>\n",
       "      <td>0.0</td>\n",
       "      <td>99998.000000</td>\n",
       "    </tr>\n",
       "  </tbody>\n",
       "</table>\n",
       "</div>"
      ],
      "text/plain": [
       "       price_dollar  registration_year       powerps    odometer_km  \\\n",
       "count  4.802800e+04        48028.00000  48028.000000   48028.000000   \n",
       "mean   9.585252e+03         2002.80351    117.070417  125544.161739   \n",
       "std    4.843817e+05            7.31085    195.151278   40106.751417   \n",
       "min    0.000000e+00         1910.00000      0.000000    5000.000000   \n",
       "25%    1.150000e+03         1999.00000     71.000000  100000.000000   \n",
       "50%    2.990000e+03         2003.00000    107.000000  150000.000000   \n",
       "75%    7.400000e+03         2008.00000    150.000000  150000.000000   \n",
       "max    1.000000e+08         2016.00000  17700.000000  150000.000000   \n",
       "\n",
       "       registration_month  number_pictures_ad   postal_code  \n",
       "count        48028.000000             48028.0  48028.000000  \n",
       "mean             5.767760                 0.0  50935.867327  \n",
       "std              3.696802                 0.0  25792.079828  \n",
       "min              0.000000                 0.0   1067.000000  \n",
       "25%              3.000000                 0.0  30459.000000  \n",
       "50%              6.000000                 0.0  49696.000000  \n",
       "75%              9.000000                 0.0  71665.000000  \n",
       "max             12.000000                 0.0  99998.000000  "
      ]
     },
     "execution_count": 10,
     "metadata": {},
     "output_type": "execute_result"
    }
   ],
   "source": [
    "autos.describe()\n",
    "#This time we won't add include = 'all'"
   ]
  },
  {
   "cell_type": "markdown",
   "metadata": {},
   "source": [
    "## Aggregate numeric column<a class=\"anchor\" id=\"num_col_analysis\"></a>"
   ]
  },
  {
   "cell_type": "code",
   "execution_count": 11,
   "metadata": {},
   "outputs": [
    {
     "ename": "NameError",
     "evalue": "name 'autos_IQR' is not defined",
     "output_type": "error",
     "traceback": [
      "\u001b[1;31m\u001b[0m",
      "\u001b[1;31mNameError\u001b[0mTraceback (most recent call last)",
      "\u001b[1;32m<ipython-input-11-863dc05b951d>\u001b[0m in \u001b[0;36m<module>\u001b[1;34m()\u001b[0m\n\u001b[0;32m      1\u001b[0m \u001b[1;31m#find the highest selling brand\u001b[0m\u001b[1;33m\u001b[0m\u001b[1;33m\u001b[0m\u001b[0m\n\u001b[1;32m----> 2\u001b[1;33m \u001b[0mautos_IQR\u001b[0m\u001b[1;33m[\u001b[0m\u001b[1;34m'brand'\u001b[0m\u001b[1;33m]\u001b[0m\u001b[1;33m.\u001b[0m\u001b[0mvalue_counts\u001b[0m\u001b[1;33m(\u001b[0m\u001b[0mnormalize\u001b[0m\u001b[1;33m=\u001b[0m\u001b[1;32mTrue\u001b[0m\u001b[1;33m)\u001b[0m\u001b[1;33m[\u001b[0m\u001b[1;33m:\u001b[0m\u001b[1;36m10\u001b[0m\u001b[1;33m]\u001b[0m\u001b[1;33m\u001b[0m\u001b[0m\n\u001b[0m\u001b[0;32m      3\u001b[0m \u001b[1;31m# for further analysis, lets analyze data with >5% values\u001b[0m\u001b[1;33m\u001b[0m\u001b[1;33m\u001b[0m\u001b[0m\n",
      "\u001b[1;31mNameError\u001b[0m: name 'autos_IQR' is not defined"
     ]
    }
   ],
   "source": [
    "#find the highest selling brand\n",
    "autos_IQR['brand'].value_counts(normalize=True)[:10]\n",
    "# for further analysis, lets analyze data with >5% values"
   ]
  },
  {
   "cell_type": "code",
   "execution_count": 12,
   "metadata": {},
   "outputs": [
    {
     "data": {
      "text/plain": [
       "[(44553.0, 'porsche'),\n",
       " (44535.0, 'citroen'),\n",
       " (39622.0, 'sonstige_autos'),\n",
       " (30317.0, 'mercedes_benz'),\n",
       " (19108.0, 'land_rover'),\n",
       " (11435.0, 'jeep'),\n",
       " (11176.0, 'jaguar'),\n",
       " (10460.0, 'mini'),\n",
       " (9094.0, 'audi'),\n",
       " (8335.0, 'bmw'),\n",
       " (7263.0, 'ford'),\n",
       " (6516.0, 'volkswagen'),\n",
       " (6489.0, 'chevrolet'),\n",
       " (6335.0, 'skoda'),\n",
       " (5916.0, 'dacia'),\n",
       " (5789.0, 'kia'),\n",
       " (5309.0, 'hyundai'),\n",
       " (5253.0, 'opel'),\n",
       " (5115.0, 'toyota'),\n",
       " (4757.0, 'volvo')]"
      ]
     },
     "execution_count": 12,
     "metadata": {},
     "output_type": "execute_result"
    }
   ],
   "source": [
    "# find the price ranges within brands\n",
    "brands_mean_price = {}\n",
    "for brand in autos['brand'].unique():\n",
    "    if brand not in brands_mean_price:\n",
    "        brands_mean_price[brand] = round(autos['price_dollar'][autos['brand']==brand].mean(), 0)\n",
    "# Sort dictionary by values in reverse order\n",
    "sorted(((value, key) for (key,value) in brands_mean_price.items()), reverse=True)[:20]"
   ]
  },
  {
   "cell_type": "code",
   "execution_count": 13,
   "metadata": {},
   "outputs": [
    {
     "ename": "NameError",
     "evalue": "name 'autos_IQR' is not defined",
     "output_type": "error",
     "traceback": [
      "\u001b[1;31m\u001b[0m",
      "\u001b[1;31mNameError\u001b[0mTraceback (most recent call last)",
      "\u001b[1;32m<ipython-input-13-13a892a8ec94>\u001b[0m in \u001b[0;36m<module>\u001b[1;34m()\u001b[0m\n\u001b[0;32m      1\u001b[0m \u001b[1;31m# extract highest selling brand labels\u001b[0m\u001b[1;33m\u001b[0m\u001b[1;33m\u001b[0m\u001b[0m\n\u001b[1;32m----> 2\u001b[1;33m \u001b[0mlist\u001b[0m\u001b[1;33m(\u001b[0m\u001b[0mautos_IQR\u001b[0m\u001b[1;33m[\u001b[0m\u001b[1;34m'brand'\u001b[0m\u001b[1;33m]\u001b[0m\u001b[1;33m.\u001b[0m\u001b[0mvalue_counts\u001b[0m\u001b[1;33m(\u001b[0m\u001b[0mnormalize\u001b[0m\u001b[1;33m=\u001b[0m\u001b[1;32mTrue\u001b[0m\u001b[1;33m)\u001b[0m\u001b[1;33m.\u001b[0m\u001b[0mindex\u001b[0m\u001b[1;33m)\u001b[0m\u001b[1;33m[\u001b[0m\u001b[1;33m:\u001b[0m\u001b[1;36m10\u001b[0m\u001b[1;33m]\u001b[0m\u001b[1;33m\u001b[0m\u001b[0m\n\u001b[0m",
      "\u001b[1;31mNameError\u001b[0m: name 'autos_IQR' is not defined"
     ]
    }
   ],
   "source": [
    "# extract highest selling brand labels\n",
    "list(autos_IQR['brand'].value_counts(normalize=True).index)[:10]"
   ]
  },
  {
   "cell_type": "code",
   "execution_count": 14,
   "metadata": {},
   "outputs": [
    {
     "name": "stdout",
     "output_type": "stream",
     "text": [
      "{'ford': 7263.0, 'audi': 9094.0, 'bmw': 8335.0, 'volkswagen': 6516.0, 'opel': 5253.0, 'mercedes_benz': 30317.0, 'renault': 2395.0}\n"
     ]
    }
   ],
   "source": [
    "# find mean price of highest selling vehicles\n",
    "selected_brands = ['volkswagen', 'opel', 'bmw', 'mercedes_benz', 'audi', 'ford', 'renault']\n",
    "selected_brands_mean_price = {}\n",
    "for brand in selected_brands:\n",
    "    if brand not in selected_brands_mean_price:\n",
    "        selected_brands_mean_price[brand] = round(autos['price_dollar'][autos['brand']==brand].mean(), 0)\n",
    "print(selected_brands_mean_price)"
   ]
  },
  {
   "cell_type": "markdown",
   "metadata": {},
   "source": [
    "From the above tables we can infer, the highest sales about 33% came from Volkswagen and Opel with a mean price of \\$6,517 and  \\$5253 respectively which are a medium range vehicles. However mercedes_benz, in the expensive range with mean price of \\$30,317 accounted for 9.5% sales.\n",
    "\n",
    "We also observed that in the top 6 brands, there's a distinct price gap. Audi, BMW and Mercedes Benz are more expensive. Ford and Opel are less expensive in the lower range while Volkswagen is in between."
   ]
  },
  {
   "cell_type": "code",
   "execution_count": 20,
   "metadata": {},
   "outputs": [
    {
     "name": "stdout",
     "output_type": "stream",
     "text": [
      "Mean mileage dataframe\n",
      "=====================================================\n",
      "                mean_mileage\n",
      "alfa_romeo          131399.0\n",
      "audi                129288.0\n",
      "bmw                 132435.0\n",
      "chevrolet            99252.0\n",
      "chrysler            133182.0\n",
      "citroen             119462.0\n",
      "dacia                84268.0\n",
      "daewoo              122431.0\n",
      "daihatsu            115285.0\n",
      "fiat                116554.0\n",
      "ford                124047.0\n",
      "honda               122851.0\n",
      "hyundai             106512.0\n",
      "jaguar              120921.0\n",
      "jeep                127546.0\n",
      "kia                 112434.0\n",
      "lada                 85517.0\n",
      "lancia              122019.0\n",
      "land_rover          118010.0\n",
      "mazda               124746.0\n",
      "mercedes_benz       130860.0\n",
      "mini                 88602.0\n",
      "mitsubishi          126931.0\n",
      "nissan              118572.0\n",
      "opel                129227.0\n",
      "peugeot             127137.0\n",
      "porsche              97457.0\n",
      "renault             128184.0\n",
      "rover               135615.0\n",
      "saab                144416.0\n",
      "seat                121564.0\n",
      "skoda               110955.0\n",
      "smart                99596.0\n",
      "sonstige_autos       87262.0\n",
      "subaru              124857.0\n",
      "suzuki              109049.0\n",
      "toyota              115710.0\n",
      "trabant              59667.0\n",
      "volkswagen          128730.0\n",
      "volvo               138356.0\n",
      "Mean price dataframe\n",
      "=====================================================\n",
      "                mean_price\n",
      "alfa_romeo          3985.0\n",
      "audi                9094.0\n",
      "bmw                 8335.0\n",
      "chevrolet           6489.0\n",
      "chrysler            3229.0\n",
      "citroen            44535.0\n",
      "dacia               5916.0\n",
      "daewoo              1020.0\n",
      "daihatsu            1556.0\n",
      "fiat                2712.0\n",
      "ford                7263.0\n",
      "honda               3988.0\n",
      "hyundai             5309.0\n",
      "jaguar             11176.0\n",
      "jeep               11435.0\n",
      "kia                 5789.0\n",
      "lada                2503.0\n",
      "lancia              3246.0\n",
      "land_rover         19108.0\n",
      "mazda               4011.0\n",
      "mercedes_benz      30317.0\n",
      "mini               10460.0\n",
      "mitsubishi          3334.0\n",
      "nissan              4665.0\n",
      "opel                5253.0\n",
      "peugeot             3039.0\n",
      "porsche            44553.0\n",
      "renault             2395.0\n",
      "rover               1528.0\n",
      "saab                3212.0\n",
      "seat                4296.0\n",
      "skoda               6335.0\n",
      "smart               3543.0\n",
      "sonstige_autos     39622.0\n",
      "subaru              3765.0\n",
      "suzuki              3996.0\n",
      "toyota              5115.0\n",
      "trabant             1552.0\n",
      "volkswagen          6516.0\n",
      "volvo               4757.0\n"
     ]
    }
   ],
   "source": [
    "# find the mileages within brands\n",
    "mean_mileage = {}\n",
    "mean_price = {}\n",
    "for brand in autos['brand'].unique():\n",
    "    if brand not in mean_mileage:\n",
    "        mean_mileage[brand] = round(autos['odometer_km'][autos['brand']==brand].mean(), 0)\n",
    "    if brand not in mean_price:\n",
    "        mean_price[brand] = round(autos['price_dollar'][autos['brand']==brand].mean(), 0)\n",
    "\n",
    "# for better readability of dictionary, we caConvert both dictionries to series objects using constructor\n",
    "mean_mileage_df = pd.DataFrame(pd.Series(mean_mileage), columns=['mean_mileage'])\n",
    "mean_price_df = pd.DataFrame(pd.Series(mean_price), columns=['mean_price'])\n",
    "print('Mean mileage dataframe')\n",
    "print('=====================================================')\n",
    "print(mean_mileage_df)\n",
    "\n",
    "print('Mean price dataframe')\n",
    "print('=====================================================')\n",
    "print(mean_price_df)"
   ]
  },
  {
   "cell_type": "markdown",
   "metadata": {},
   "source": [
    "## Check labelling of categorical column<a class=\"anchor\" id=\"cat_label\"></a>"
   ]
  },
  {
   "cell_type": "code",
   "execution_count": 34,
   "metadata": {},
   "outputs": [
    {
     "name": "stdout",
     "output_type": "stream",
     "text": [
      "Seller\n",
      "======================================================\n",
      "privat        48027\n",
      "gewerblich        1\n",
      "Name: seller, dtype: int64\n",
      "Offer type\n",
      "======================================================\n",
      "Angebot    48027\n",
      "Gesuch         1\n",
      "Name: offer_type, dtype: int64\n",
      "abtest\n",
      "======================================================\n",
      "test       24756\n",
      "control    23272\n",
      "Name: abtest, dtype: int64\n",
      "Vehicle type\n",
      "======================================================\n",
      "limousine     12859\n",
      "kleinwagen    10822\n",
      "kombi          9126\n",
      "bus            4093\n",
      "cabrio         3061\n",
      "coupe          2536\n",
      "suv            1986\n",
      "andere          420\n",
      "Name: vehicle_type, dtype: int64\n",
      "Gear box\n",
      "======================================================\n",
      "manuell      35560\n",
      "automatik    10044\n",
      "Name: gearbox, dtype: int64\n",
      "Fuel type\n",
      "======================================================\n",
      "benzin     29248\n",
      "diesel     14234\n",
      "lpg          671\n",
      "cng           72\n",
      "hybrid        37\n",
      "andere        20\n",
      "elektro       19\n",
      "Name: fuel_type, dtype: int64\n",
      "Brand\n",
      "======================================================\n",
      "alfa_romeo          318\n",
      "audi               4149\n",
      "bmw                5284\n",
      "chevrolet           274\n",
      "chrysler            176\n",
      "citroen             669\n",
      "dacia               123\n",
      "daewoo               72\n",
      "daihatsu            123\n",
      "fiat               1242\n",
      "ford               3352\n",
      "honda               377\n",
      "hyundai             473\n",
      "jaguar               76\n",
      "jeep                108\n",
      "kia                 341\n",
      "lada                 29\n",
      "lancia               52\n",
      "land_rover           98\n",
      "mazda               727\n",
      "mercedes_benz      4580\n",
      "mini                415\n",
      "mitsubishi          391\n",
      "nissan              725\n",
      "opel               5195\n",
      "peugeot            1418\n",
      "porsche             293\n",
      "renault            2274\n",
      "rover                65\n",
      "saab                 77\n",
      "seat                873\n",
      "skoda               770\n",
      "smart               668\n",
      "sonstige_autos      526\n",
      "subaru              105\n",
      "suzuki              284\n",
      "toyota              599\n",
      "trabant              75\n",
      "volkswagen        10188\n",
      "volvo               444\n",
      "Name: brand, dtype: int64\n",
      "Unrepaired_damage\n",
      "======================================================\n",
      "nein    34255\n",
      "ja       4785\n",
      "Name: unrepaired_damage, dtype: int64\n"
     ]
    }
   ],
   "source": [
    "cat_cols = ['name','seller','offer_type','abtest','vehicle_type','gearbox','fuel_type','brand','unrepaired_damage']\n",
    "print('Seller')\n",
    "print('======================================================')\n",
    "print(autos['seller'].value_counts())\n",
    "\n",
    "print('Offer type')\n",
    "print('======================================================')\n",
    "print(autos['offer_type'].value_counts())\n",
    "\n",
    "print('abtest')\n",
    "print('======================================================')\n",
    "print(autos['abtest'].value_counts())\n",
    "\n",
    "print('Vehicle type')\n",
    "print('======================================================')\n",
    "print(autos['vehicle_type'].value_counts())\n",
    "\n",
    "print('Gear box')\n",
    "print('======================================================')\n",
    "print(autos['gearbox'].value_counts())\n",
    "\n",
    "print('Fuel type')\n",
    "print('======================================================')\n",
    "print(autos['fuel_type'].value_counts())\n",
    "\n",
    "print('Brand')\n",
    "print('======================================================')\n",
    "print(autos['brand'].value_counts().sort_index(ascending = True))\n",
    "\n",
    "print('Unrepaired_damage')\n",
    "print('======================================================')\n",
    "print(autos['unrepaired_damage'].value_counts())\n",
    "\n"
   ]
  },
  {
   "cell_type": "markdown",
   "metadata": {},
   "source": [
    "We do not see any from the above tables of different categorical variable, however in seller and offer_type variables they are labels with only 1 entry. Let us remove that entry as it will not be a valuable addition."
   ]
  },
  {
   "cell_type": "code",
   "execution_count": 36,
   "metadata": {
    "scrolled": true
   },
   "outputs": [
    {
     "name": "stdout",
     "output_type": "stream",
     "text": [
      "Seller\n",
      "======================================================\n",
      "privat    48026\n",
      "Name: seller, dtype: int64\n",
      "Offer type\n",
      "======================================================\n",
      "Angebot    48026\n",
      "Name: offer_type, dtype: int64\n"
     ]
    }
   ],
   "source": [
    "autos = autos[autos['seller'] != 'gewerblich']\n",
    "autos = autos[autos['offer_type'] != 'Gesuch']\n",
    "\n",
    "print('Seller')\n",
    "print('======================================================')\n",
    "print(autos['seller'].value_counts())\n",
    "\n",
    "print('Offer type')\n",
    "print('======================================================')\n",
    "print(autos['offer_type'].value_counts())\n",
    "\n"
   ]
  },
  {
   "cell_type": "markdown",
   "metadata": {},
   "source": [
    "# Outliers<a class=\"anchor\" id=\"detect_outliers\"></a>"
   ]
  },
  {
   "cell_type": "markdown",
   "metadata": {},
   "source": [
    "## Outlier visualisation using boxplot<a class=\"anchor\" id=\"boxplot\"></a>"
   ]
  },
  {
   "cell_type": "code",
   "execution_count": 12,
   "metadata": {},
   "outputs": [
    {
     "data": {
      "image/png": "[encoded data removed]",
      "text/plain": [
       "<matplotlib.figure.Figure at 0x7f12c2800080>"
      ]
     },
     "metadata": {},
     "output_type": "display_data"
    }
   ],
   "source": [
    "num_cols = ['price_dollar', 'odometer_km']\n",
    "fig, ax= plt.subplots()\n",
    "ax.boxplot(autos[num_cols].values)\n",
    "ax.set_xticklabels(num_cols, rotation = 90)\n",
    "ax.set_ylim(0,5)\n",
    "plt.show()"
   ]
  },
  {
   "cell_type": "code",
   "execution_count": 13,
   "metadata": {
    "collapsed": true
   },
   "outputs": [],
   "source": [
    "# From the above boxplot its evident that price_dollar column has lots of outliers. Lets visulaize both the columns in different plots"
   ]
  },
  {
   "cell_type": "code",
   "execution_count": 14,
   "metadata": {
    "scrolled": true
   },
   "outputs": [
    {
     "data": {
      "text/plain": [
       "<matplotlib.text.Text at 0x7f12bfd1f438>"
      ]
     },
     "execution_count": 14,
     "metadata": {},
     "output_type": "execute_result"
    },
    {
     "data": {
      "image/png": "[encoded data removed]",
      "text/plain": [
       "<matplotlib.figure.Figure at 0x7f12bfd6b780>"
      ]
     },
     "metadata": {},
     "output_type": "display_data"
    }
   ],
   "source": [
    "autos['price_dollar'].value_counts(dropna=False).sort_index(ascending = True)\n",
    "fig = plt.figure(figsize=(10,3))\n",
    "ax1 = fig.add_subplot(1,2,1)\n",
    "ax2 = fig.add_subplot(1,2,2)\n",
    "\n",
    "ax1.boxplot(autos['price_dollar'])\n",
    "ax1.set_xlabel('price_dollar')\n",
    "\n",
    "ax2.boxplot(autos['odometer_km'])\n",
    "ax2.set_xlabel('odometer_km')\n",
    "\n",
    "# the below plot shows extremely high ouliers in price column. Lets find the datapoints 1.5 times away from upperquartile and remove it."
   ]
  },
  {
   "cell_type": "markdown",
   "metadata": {},
   "source": [
    "## Remove outliers<a class=\"anchor\" id=\"remove_outliers\"></a>"
   ]
  },
  {
   "cell_type": "markdown",
   "metadata": {},
   "source": [
    "Here we will look at two different methods to identify outliers.\n",
    "\n",
    "** IQR Score **: The above plot (boxplot) uses IQR method to display datapoints. The interquartile range (IQR), also called the midspread or middle 50%, or technically H-spread, is a measure of statistical dispersion, being equal to the difference between 75th and 25th percentiles, or between upper and lower quartiles, IQR = Q3 − Q1. The data points above Q2(upper quartile) or below Q1 (lower quartile) 1.5 * IQR \n",
    "\n",
    "* In real life scenario, removing data is not wise, hence the criteria can be made a bit stringent by calculating outliers as 3 * IQR than 1.5 * IQR to include most of the data. \n",
    "\n",
    "\n",
    "** Z-Score ** : The Z-score is the signed number of standard deviations by which the value of an observation or data point is above the mean value of what is being observed or measured. Since mean and standard deviation are highly affected by outliers, Zscore is comparatively less robust method because it depends on the mean and standard deviations to measure the central tendency and dispersion.\n",
    "\n",
    "You will have to consider many parameters before excluding outliers like study objectives, model sensitivity towards outliers etc.\n",
    "\n",
    "* The presence of such outliers are an indicator of real world data, hence its better to carry out further investigation to identify the source of outliers.\n",
    "\n",
    "* Sometimes to retain the information from other variables the outliers are not deleted but winsorized (A typical strategy is to set all outliers to a specified percentile of the data; for example, a 90% winsorization would see all data below the 5th percentile set to the 5th percentile, and data above the 95th percentile set to the 95th percentile.) Python code for winsorizing is as below:\n",
    "\n",
    "   ---> scipy.stats.mstats.winsorize(a, limits = 0.05)\n",
    "\n",
    "\n",
    "* Sometimes it is better to delete outliers for train models that are sensitive to outliers."
   ]
  },
  {
   "cell_type": "markdown",
   "metadata": {},
   "source": [
    "### IQR Score<a class=\"anchor\" id=\"IQR\"></a>"
   ]
  },
  {
   "cell_type": "code",
   "execution_count": 15,
   "metadata": {},
   "outputs": [
    {
     "data": {
      "text/plain": [
       "(38366, 20)"
      ]
     },
     "execution_count": 15,
     "metadata": {},
     "output_type": "execute_result"
    }
   ],
   "source": [
    "# Write a function to remove outliers using IQR\n",
    "def outliers_IQR(data, col):\n",
    "    lower_quartile = data[col].quantile(0.25)\n",
    "    upper_quartile = data[col].quantile(0.75)\n",
    "    IQR = upper_quartile - lower_quartile\n",
    "    outlier_thresh = 1.5 * IQR\n",
    "    return data[data[col].between((lower_quartile - outlier_thresh), (upper_quartile + outlier_thresh))]\n",
    "\n",
    "autos_IQR = outliers_IQR(autos, 'price_dollar')\n",
    "autos_IQR = outliers_IQR(autos_IQR, 'odometer_km')\n",
    "autos_IQR.shape"
   ]
  },
  {
   "cell_type": "markdown",
   "metadata": {},
   "source": [
    "This method removed 50,000 - 39,964 = 10,036 datapoints. This is 20% of the data, hence its not wise to remove so much data however as mentioned above it depends on the study objectives."
   ]
  },
  {
   "cell_type": "code",
   "execution_count": 16,
   "metadata": {
    "scrolled": true
   },
   "outputs": [
    {
     "data": {
      "text/plain": [
       "<matplotlib.text.Text at 0x7f12c2bf5400>"
      ]
     },
     "execution_count": 16,
     "metadata": {},
     "output_type": "execute_result"
    },
    {
     "data": {
      "image/png": "[encoded data removed]",
      "text/plain": [
       "<matplotlib.figure.Figure at 0x7f12c2c1b358>"
      ]
     },
     "metadata": {},
     "output_type": "display_data"
    }
   ],
   "source": [
    "# Visualize data after removing outliers using IQR method\n",
    "fig = plt.figure(figsize=(10,3))\n",
    "ax1 = fig.add_subplot(1,2,1)\n",
    "ax2 = fig.add_subplot(1,2,2)\n",
    "\n",
    "ax1.boxplot(autos_IQR['price_dollar'])\n",
    "ax1.set_xlabel('price_dollar')\n",
    "\n",
    "ax2.boxplot(autos_IQR['odometer_km'])\n",
    "ax2.set_xlabel('odometer_km')"
   ]
  },
  {
   "cell_type": "markdown",
   "metadata": {},
   "source": [
    "### Z-Score<a class=\"anchor\" id=\"z_score\"></a>"
   ]
  },
  {
   "cell_type": "code",
   "execution_count": 17,
   "metadata": {},
   "outputs": [
    {
     "data": {
      "text/plain": [
       "0.05778"
      ]
     },
     "execution_count": 17,
     "metadata": {},
     "output_type": "execute_result"
    }
   ],
   "source": [
    "def outliers_zscore(data, col, col_zscores):\n",
    "    outlier_thresh = 3\n",
    "    mean = data[col].mean()\n",
    "    stdev = data[col].std()\n",
    "    data[col_zscores] = (data[col] - mean) / stdev # compute zscore\n",
    "    data = data[abs(data[col_zscores])<=3] # remove outliers\n",
    "    return data.drop(col_zscores, axis=1) # drop zscore columns\n",
    "    \n",
    "    \n",
    "autos_zscore = outliers_zscore(autos, 'price_dollar', 'price_zscores')\n",
    "autos_zscore = outliers_zscore(autos_zscore, 'odometer_km', 'Odometer_zscores')\n",
    "(50000 - autos_zscore.shape[0])/50000"
   ]
  },
  {
   "cell_type": "markdown",
   "metadata": {},
   "source": [
    "This method could only identify 6% of the data as outliers whereas only removed 20% of the data. It looks too suspicious as IQR identified 20% of the data to be outlier. Lets visualise our boxplots with outliers removed using zscore. "
   ]
  },
  {
   "cell_type": "code",
   "execution_count": 18,
   "metadata": {
    "scrolled": true
   },
   "outputs": [
    {
     "data": {
      "text/plain": [
       "<matplotlib.text.Text at 0x7f12c2b181d0>"
      ]
     },
     "execution_count": 18,
     "metadata": {},
     "output_type": "execute_result"
    },
    {
     "data": {
      "image/png": "[encoded data removed]",
      "text/plain": [
       "<matplotlib.figure.Figure at 0x7f12c2a87630>"
      ]
     },
     "metadata": {},
     "output_type": "display_data"
    }
   ],
   "source": [
    "# Visualize data after removing outliers using Zscore method\n",
    "fig = plt.figure(figsize=(10,3))\n",
    "ax1 = fig.add_subplot(1,2,1)\n",
    "ax2 = fig.add_subplot(1,2,2)\n",
    "\n",
    "ax1.boxplot(autos_zscore['price_dollar'])\n",
    "ax1.set_xlabel('price_dollar')\n",
    "\n",
    "ax2.boxplot(autos_zscore['odometer_km'])\n",
    "ax2.set_xlabel('odometer_km')"
   ]
  },
  {
   "cell_type": "markdown",
   "metadata": {},
   "source": [
    "The boxplot still shows lot of outliers which zscore method could not identify as its mean and std deviations are also affected by large outliers."
   ]
  },
  {
   "cell_type": "markdown",
   "metadata": {
    "collapsed": true
   },
   "source": [
    "# Missing Values<a class=\"anchor\" id=\"missing_values\"></a>"
   ]
  },
  {
   "cell_type": "markdown",
   "metadata": {},
   "source": [
    "There are multiple ways to approach remove missing values\n",
    "\n",
    "* Ignore missing values if you are working with large data\n",
    "\n",
    "* Delete missing values for the models that are sensitive to it. The caveat here is, in this case we will lose a lot of information from the other columns as well.\n",
    "\n",
    "* Impute missing values:\n",
    "    * This can be acheived by replacing the missing values with mean, median, mode OR\n",
    "    * Develop model to predict missing values\n",
    "    \n",
    "Whatever is the approach followed, the same approach needs to be followed for future data to maintain model consistency."
   ]
  },
  {
   "cell_type": "code",
   "execution_count": 19,
   "metadata": {},
   "outputs": [
    {
     "data": {
      "text/plain": [
       "date_crawled             0\n",
       "name                     0\n",
       "seller                   0\n",
       "offer_type               0\n",
       "price_dollar             0\n",
       "abtest                   0\n",
       "vehicle_type          2570\n",
       "registration_year        0\n",
       "gearbox               1865\n",
       "powerps                  0\n",
       "model                 1913\n",
       "odometer_km              0\n",
       "registration_month       0\n",
       "fuel_type             3069\n",
       "brand                    0\n",
       "unrepaired_damage     7720\n",
       "ad_created               0\n",
       "number_pictures_ad       0\n",
       "postal_code              0\n",
       "last_seen                0\n",
       "dtype: int64"
      ]
     },
     "execution_count": 19,
     "metadata": {},
     "output_type": "execute_result"
    }
   ],
   "source": [
    "autos_IQR.isnull().sum()"
   ]
  },
  {
   "cell_type": "markdown",
   "metadata": {
    "collapsed": true
   },
   "source": [
    "Lets replace NAs with mode in this project, since all the columns with missing values is a categorical column."
   ]
  },
  {
   "cell_type": "code",
   "execution_count": 20,
   "metadata": {},
   "outputs": [],
   "source": [
    "# Replacing NAs with mode can be acheived with a one line code in python\n",
    "# df.fillna(df.mode(), inplace=True)\n",
    "# However because of some bug, you will have to modify the code in below format and run it seperately for each cat columns\n",
    "\n",
    "cat_cols = ['vehicle_type', 'gearbox', 'model', 'fuel_type', 'unrepaired_damage']\n",
    "for column in cat_cols:\n",
    "    autos_IQR.fillna(autos_IQR[column].mode()[0], inplace=True)"
   ]
  },
  {
   "cell_type": "code",
   "execution_count": 21,
   "metadata": {
    "scrolled": true
   },
   "outputs": [
    {
     "data": {
      "text/plain": [
       "date_crawled          0\n",
       "name                  0\n",
       "seller                0\n",
       "offer_type            0\n",
       "price_dollar          0\n",
       "abtest                0\n",
       "vehicle_type          0\n",
       "registration_year     0\n",
       "gearbox               0\n",
       "powerps               0\n",
       "model                 0\n",
       "odometer_km           0\n",
       "registration_month    0\n",
       "fuel_type             0\n",
       "brand                 0\n",
       "unrepaired_damage     0\n",
       "ad_created            0\n",
       "number_pictures_ad    0\n",
       "postal_code           0\n",
       "last_seen             0\n",
       "dtype: int64"
      ]
     },
     "execution_count": 21,
     "metadata": {},
     "output_type": "execute_result"
    }
   ],
   "source": [
    "autos_IQR.isnull().sum()\n",
    "#All the NAs are imputed with mode values of each column"
   ]
  }
 ],
 "metadata": {
  "kernelspec": {
   "display_name": "Python 3",
   "language": "python",
   "name": "python3"
  },
  "language_info": {
   "codemirror_mode": {
    "name": "ipython",
    "version": 3
   },
   "file_extension": ".py",
   "mimetype": "text/x-python",
   "name": "python",
   "nbconvert_exporter": "python",
   "pygments_lexer": "ipython3",
   "version": "3.4.3"
  }
 },
 "nbformat": 4,
 "nbformat_minor": 2
}
